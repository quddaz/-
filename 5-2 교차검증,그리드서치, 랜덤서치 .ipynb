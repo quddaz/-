{
  "nbformat": 4,
  "nbformat_minor": 0,
  "metadata": {
    "colab": {
      "provenance": [],
      "authorship_tag": "ABX9TyM+incLMLCiWWQ1nwnTuimA",
      "include_colab_link": true
    },
    "kernelspec": {
      "name": "python3",
      "display_name": "Python 3"
    },
    "language_info": {
      "name": "python"
    }
  },
  "cells": [
    {
      "cell_type": "markdown",
      "metadata": {
        "id": "view-in-github",
        "colab_type": "text"
      },
      "source": [
        "<a href=\"https://colab.research.google.com/github/quddaz/Machine_Learing/blob/main/5-2%20%EA%B5%90%EC%B0%A8%EA%B2%80%EC%A6%9D%2C%EA%B7%B8%EB%A6%AC%EB%93%9C%EC%84%9C%EC%B9%98%2C%20%EB%9E%9C%EB%8D%A4%EC%84%9C%EC%B9%98%20.ipynb\" target=\"_parent\"><img src=\"https://colab.research.google.com/assets/colab-badge.svg\" alt=\"Open In Colab\"/></a>"
      ]
    },
    {
      "cell_type": "markdown",
      "source": [
        "# 교차 검증과 그리드 서치"
      ],
      "metadata": {
        "id": "Gml3P06EtUGK"
      }
    },
    {
      "cell_type": "markdown",
      "source": [
        "\n",
        "\n",
        "> **검증 세트**\n",
        "\n",
        "+ 테스트 세트를 사용하지 않고 훈련 세트를 나누는 것\n",
        "+ 실제로 많이 사용하는 방법\n",
        "\n",
        "우리가 평상시에 했던 방법은 훈련세트와 검증 세트를 나눠서 사용했다.\n",
        "\n",
        "\n",
        "\n",
        "> **검증 세트 만들기**\n",
        "\n",
        "+ 훈련 세트 : 80%, 테스트 세트: 20%\n",
        "+ 훈련 세트에서 모델을 훈련하고 검증 세트로 모델을 평가\n",
        "+ 테스트하고 싶은 매개변수를 바꿔가며 가장 좋은 모델을 고른다.\n",
        "+ 훈련 세트와 검증 세트를 합쳐 전체 훈련 데이터에서 모델을 다시 훈련\n",
        "+ 마지막으로 테스트 세트에서 최종 점수 평가\n",
        "+ ![1.PNG](data:image/png;base64,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)\n",
        "\n",
        "\n",
        "\n"
      ],
      "metadata": {
        "id": "eVZVXCwDsqcm"
      }
    },
    {
      "cell_type": "code",
      "execution_count": 2,
      "metadata": {
        "id": "Ya6wPBBzl-3D"
      },
      "outputs": [],
      "source": [
        "import pandas as pd\n",
        "\n",
        "wine = pd.read_csv('https://bit.ly/wine_csv_data')\n",
        "\n",
        "data = wine[['alcohol', 'sugar', 'pH']].to_numpy()\n",
        "target = wine['class'].to_numpy()"
      ]
    },
    {
      "cell_type": "code",
      "source": [
        "from sklearn.model_selection import train_test_split\n",
        "\n",
        "train_input, test_input, train_target, test_target = train_test_split(\n",
        "    data, target, test_size=0.2, random_state=42)"
      ],
      "metadata": {
        "id": "Di9PVDq0tgd-"
      },
      "execution_count": 3,
      "outputs": []
    },
    {
      "cell_type": "code",
      "source": [
        "\n",
        "sub_input, val_input, sub_target, val_target = train_test_split(\n",
        "    train_input, train_target, test_size=0.2, random_state=42)"
      ],
      "metadata": {
        "id": "uS6HPNF3tht9"
      },
      "execution_count": 4,
      "outputs": []
    },
    {
      "cell_type": "code",
      "source": [
        "print(sub_input.shape, val_input.shape)"
      ],
      "metadata": {
        "colab": {
          "base_uri": "https://localhost:8080/"
        },
        "id": "zcVjcMTWtjBW",
        "outputId": "0b298389-ff6c-4553-fbc7-5b65d387471b"
      },
      "execution_count": 5,
      "outputs": [
        {
          "output_type": "stream",
          "name": "stdout",
          "text": [
            "(4157, 3) (1040, 3)\n"
          ]
        }
      ]
    },
    {
      "cell_type": "markdown",
      "source": [
        "여기서 3은 feature이다"
      ],
      "metadata": {
        "id": "WYkClqtmtqGm"
      }
    },
    {
      "cell_type": "code",
      "source": [
        "from sklearn.tree import DecisionTreeClassifier\n",
        "\n",
        "dt = DecisionTreeClassifier(random_state=42)\n",
        "dt.fit(sub_input, sub_target)\n",
        "\n",
        "print(dt.score(sub_input, sub_target))\n",
        "print(dt.score(val_input, val_target))"
      ],
      "metadata": {
        "colab": {
          "base_uri": "https://localhost:8080/"
        },
        "id": "_Vz6IXK_tuYS",
        "outputId": "933b9af9-d57d-4347-db6f-dbac65f748f0"
      },
      "execution_count": 6,
      "outputs": [
        {
          "output_type": "stream",
          "name": "stdout",
          "text": [
            "0.9971133028626413\n",
            "0.864423076923077\n"
          ]
        }
      ]
    },
    {
      "cell_type": "markdown",
      "source": [
        "일반적으로 교차검증은 여러번 반복해야 정확해진다고 한다.\n",
        "+ 검증 세트를 만들어 사용하니 훈련 세트가 줄어들게 됨\n",
        "+ 검증 세트를 조금 대어 놓으면 점수가 불안정함\n",
        "+ 검증 세트를 떼어 내어 평가 과정을 여러 번 반복\n",
        "+ 이 점수들을 평균하여 최종 검증 점수를 얻는다."
      ],
      "metadata": {
        "id": "2yV_PS9ytxWW"
      }
    },
    {
      "cell_type": "markdown",
      "source": [
        "일반적인 방법은 5-폴드나 10-폴드를 사용한다.(80~90% 훈련 가능)"
      ],
      "metadata": {
        "id": "W_uAcqnRuDza"
      }
    },
    {
      "cell_type": "markdown",
      "source": [
        "## 교차 검증"
      ],
      "metadata": {
        "id": "EQlv-ynbuYt6"
      }
    },
    {
      "cell_type": "markdown",
      "source": [
        "\n",
        "\n",
        "> 사이킷 런의 cross_validate() 교차 검증 함수\n",
        "\n"
      ],
      "metadata": {
        "id": "-Ofl3N5ZubMu"
      }
    },
    {
      "cell_type": "code",
      "source": [
        "from sklearn.model_selection import cross_validate\n",
        "\n",
        "scores = cross_validate(dt, train_input, train_target)\n",
        "print(scores)"
      ],
      "metadata": {
        "colab": {
          "base_uri": "https://localhost:8080/"
        },
        "id": "bPo97B5Ft-N3",
        "outputId": "c3163567-bead-44e8-c3d9-7640a0187f3e"
      },
      "execution_count": 7,
      "outputs": [
        {
          "output_type": "stream",
          "name": "stdout",
          "text": [
            "{'fit_time': array([0.03173614, 0.0108645 , 0.01137543, 0.01121211, 0.01518536]), 'score_time': array([0.00226951, 0.00248098, 0.00206065, 0.00204849, 0.00209594]), 'test_score': array([0.86923077, 0.84615385, 0.87680462, 0.84889317, 0.83541867])}\n"
          ]
        }
      ]
    },
    {
      "cell_type": "markdown",
      "source": [
        "각각 훈련 시간, 검증 시간, 최종 점수로 5개의 결과가 나와 5-폴드 교차 검증이다.\n",
        "\n"
      ],
      "metadata": {
        "id": "dUAS1ernvANj"
      }
    },
    {
      "cell_type": "code",
      "source": [
        "import numpy as np\n",
        "\n",
        "print(np.mean(scores['test_score']))"
      ],
      "metadata": {
        "colab": {
          "base_uri": "https://localhost:8080/"
        },
        "id": "FCfqzzNDuhuW",
        "outputId": "56b8c374-3774-45be-c6c2-3a9642e71bfa"
      },
      "execution_count": 9,
      "outputs": [
        {
          "output_type": "stream",
          "name": "stdout",
          "text": [
            "0.855300214703487\n"
          ]
        }
      ]
    },
    {
      "cell_type": "markdown",
      "source": [
        "해당 값이 최종 점수의 평균이다."
      ],
      "metadata": {
        "id": "2lKR1X_mumXb"
      }
    },
    {
      "cell_type": "markdown",
      "source": [
        "## 분할기를 사용한 교차 검증"
      ],
      "metadata": {
        "id": "mBQoYOXyvsQW"
      }
    },
    {
      "cell_type": "markdown",
      "source": [
        "\n",
        "\n",
        "> **분할기란?**\n",
        "\n",
        "+ train_test-splict() 함수를 사용하여 자료를 섞을 필요가 없었음\n",
        "+ cross_validate() 함수는 자료를 섞어줘야 한다.\n",
        "+ StratifiedKFold() 함수는 타깃 클래스를 골구로 나눠 준다.\n",
        "\n"
      ],
      "metadata": {
        "id": "I58tzO0DvvyG"
      }
    },
    {
      "cell_type": "code",
      "source": [
        "from sklearn.model_selection import StratifiedKFold\n",
        "\n",
        "scores = cross_validate(dt, train_input, train_target, cv=StratifiedKFold())\n",
        "print(np.mean(scores['test_score']))"
      ],
      "metadata": {
        "colab": {
          "base_uri": "https://localhost:8080/"
        },
        "id": "2OqABWMoun7W",
        "outputId": "4f8d5ddc-2196-4fee-fd87-1003f091ef92"
      },
      "execution_count": 10,
      "outputs": [
        {
          "output_type": "stream",
          "name": "stdout",
          "text": [
            "0.855300214703487\n"
          ]
        }
      ]
    },
    {
      "cell_type": "markdown",
      "source": [
        "10-폴드 교차 검증을 해보자"
      ],
      "metadata": {
        "id": "qtAy5SmzwIY1"
      }
    },
    {
      "cell_type": "code",
      "source": [
        "splitter = StratifiedKFold(n_splits=10, shuffle=True, random_state=42)\n",
        "scores = cross_validate(dt, train_input, train_target, cv=splitter)\n",
        "print(np.mean(scores['test_score']))"
      ],
      "metadata": {
        "colab": {
          "base_uri": "https://localhost:8080/"
        },
        "id": "3ka8btO8vpie",
        "outputId": "a8af802f-8116-4ea7-9e96-a43c39576d3d"
      },
      "execution_count": 11,
      "outputs": [
        {
          "output_type": "stream",
          "name": "stdout",
          "text": [
            "0.8574181117533719\n"
          ]
        }
      ]
    },
    {
      "cell_type": "markdown",
      "source": [
        "## 하이퍼파라미터 튜닝"
      ],
      "metadata": {
        "id": "EnJQveXQwmo6"
      }
    },
    {
      "cell_type": "markdown",
      "source": [
        "결정 트리의 단점은 그대로 두면 너무 과대적합되는 것에 있다. 우리는 하이퍼파라미터 튜닝을 통해 이것을 해결해보자"
      ],
      "metadata": {
        "id": "6-LN5nflwogx"
      }
    },
    {
      "cell_type": "markdown",
      "source": [
        "\n",
        "\n",
        "> **하이퍼파라미터 튜닝하는 방법**\n",
        "\n",
        "+ 처음에는 라이브러리의 기본값을 사용하여 훈련\n",
        "+ 검증 세트나 교차 검증을 통해서 매개변수를 조금씩 바꿔서 훈련\n",
        "+ 모델마다 1~6개의 매개변수를 바꿔가면서 모델 훈련하여 교차 검증을 수행\n",
        "\n",
        "\n",
        "\n",
        "> **하이퍼파라미터 튜닝의 문제점**\n",
        "\n",
        "+ 하나의 매개변수를 고정하고 다른 매개변수를 바꾸면 될 수도 잇지만 같이 움직이는 매개변수들도 존재함\n",
        "+ 예를들면 max_depth와 min_samples_split은 같이 움직임\n",
        "+ 매개변수가 많으면 대단히 어렵다\n",
        "\n",
        "\n",
        "\n",
        "\n",
        "> **하이퍼파라미터 튜닝의 해결방법**\n",
        "\n",
        "+ GridSearchCV 클래스를 사용\n",
        "+ 하이퍼파라미터 탐색과 교차 검증을 한번에 수행\n",
        "\n",
        "\n",
        "\n",
        "\n"
      ],
      "metadata": {
        "id": "CsGHODDBwu1-"
      }
    },
    {
      "cell_type": "code",
      "source": [
        "from sklearn.model_selection import GridSearchCV\n",
        "\n",
        "params = {'min_impurity_decrease': [0.0001, 0.0002, 0.0003, 0.0004, 0.0005]}"
      ],
      "metadata": {
        "id": "9LenAOZpxWgS"
      },
      "execution_count": 12,
      "outputs": []
    },
    {
      "cell_type": "code",
      "source": [
        "gs = GridSearchCV(DecisionTreeClassifier(random_state=42), params, n_jobs=-1)\n",
        "gs.fit(train_input, train_target)\n",
        "\n",
        "\n",
        "dt = gs.best_estimator_\n",
        "print(dt.score(train_input, train_target))"
      ],
      "metadata": {
        "colab": {
          "base_uri": "https://localhost:8080/"
        },
        "id": "QaxB2ne6ycHG",
        "outputId": "063ecceb-b2ab-47ce-fe44-41d7044902a9"
      },
      "execution_count": 13,
      "outputs": [
        {
          "output_type": "stream",
          "name": "stdout",
          "text": [
            "0.9615162593804117\n"
          ]
        }
      ]
    },
    {
      "cell_type": "markdown",
      "source": [
        "cv가 5이기 때문에 25번의 교차 검증이 일어난다.\n",
        "+ 25개의 모델 중 가장 높은 모델의 매개변수 조합으로 전체 훈련 세트에서 자동으로 다시 모델을 훈련한다."
      ],
      "metadata": {
        "id": "kAFr7NafyrnQ"
      }
    },
    {
      "cell_type": "code",
      "source": [
        "print(gs.best_params_)"
      ],
      "metadata": {
        "colab": {
          "base_uri": "https://localhost:8080/"
        },
        "id": "uL207ku4yiS5",
        "outputId": "e169d203-bf91-4e36-b2c9-a652043357ff"
      },
      "execution_count": 14,
      "outputs": [
        {
          "output_type": "stream",
          "name": "stdout",
          "text": [
            "{'min_impurity_decrease': 0.0001}\n"
          ]
        }
      ]
    },
    {
      "cell_type": "code",
      "source": [
        "print(gs.cv_results_['mean_test_score'])"
      ],
      "metadata": {
        "colab": {
          "base_uri": "https://localhost:8080/"
        },
        "id": "WJfEGVygyk5C",
        "outputId": "b93c5f86-706c-44e3-f40d-264e60394fb1"
      },
      "execution_count": 15,
      "outputs": [
        {
          "output_type": "stream",
          "name": "stdout",
          "text": [
            "[0.86819297 0.86453617 0.86492226 0.86780891 0.86761605]\n"
          ]
        }
      ]
    },
    {
      "cell_type": "markdown",
      "source": [
        "각 매개변수에서 수행한 교차 검증의 평균 점수는 각각 cv_results_의 속성에 mean_test_score에 저장된다."
      ],
      "metadata": {
        "id": "E2_IJDxXy0sp"
      }
    },
    {
      "cell_type": "markdown",
      "source": [
        "## 그리드 서치"
      ],
      "metadata": {
        "id": "EjIUG6wAy-EC"
      }
    },
    {
      "cell_type": "markdown",
      "source": [
        "넘파이 argmax() 함수를 사용하여 가장 큰 값의 인덱스를 추출하자\n",
        "\n",
        "\n",
        "> 탐색 순서\n",
        "\n",
        "+ 탐색할 매개변수를 지정\n",
        "+ 훈련 세트에서 그리드 서치를 수행하는 최상의 평균 검증 점수가 나오는 매개변수 조합을 찾는다. 각 그리드 서치 객체에 저장\n",
        "+ 그리드 서치는 최상의 매개변수에서 전체 훈련 세트를 사용해 최종 모델을 훈련한다.\n",
        "\n"
      ],
      "metadata": {
        "id": "AYE5cf8JzlNr"
      }
    },
    {
      "cell_type": "code",
      "source": [
        "best_index = np.argmax(gs.cv_results_['mean_test_score'])\n",
        "print(gs.cv_results_['params'][best_index])"
      ],
      "metadata": {
        "colab": {
          "base_uri": "https://localhost:8080/"
        },
        "id": "exVJ885py_11",
        "outputId": "0be87a0f-5a1e-4137-8602-90022ec53603"
      },
      "execution_count": 17,
      "outputs": [
        {
          "output_type": "stream",
          "name": "stdout",
          "text": [
            "{'min_impurity_decrease': 0.0001}\n"
          ]
        }
      ]
    },
    {
      "cell_type": "code",
      "source": [
        "params = {'min_impurity_decrease': np.arange(0.0001, 0.001, 0.0001),\n",
        "          'max_depth': range(5, 20, 1),\n",
        "          'min_samples_split': range(2, 100, 10)\n",
        "          }"
      ],
      "metadata": {
        "id": "vFmvF-VszgmJ"
      },
      "execution_count": 18,
      "outputs": []
    },
    {
      "cell_type": "code",
      "source": [
        "\n",
        "gs = GridSearchCV(DecisionTreeClassifier(random_state=42), params, n_jobs=-1)\n",
        "gs.fit(train_input, train_target)"
      ],
      "metadata": {
        "colab": {
          "base_uri": "https://localhost:8080/",
          "height": 118
        },
        "id": "0MJh-4HRziAV",
        "outputId": "28ad7326-8903-41a5-b996-9c78de9eac78"
      },
      "execution_count": 19,
      "outputs": [
        {
          "output_type": "execute_result",
          "data": {
            "text/plain": [
              "GridSearchCV(estimator=DecisionTreeClassifier(random_state=42), n_jobs=-1,\n",
              "             param_grid={'max_depth': range(5, 20),\n",
              "                         'min_impurity_decrease': array([0.0001, 0.0002, 0.0003, 0.0004, 0.0005, 0.0006, 0.0007, 0.0008,\n",
              "       0.0009]),\n",
              "                         'min_samples_split': range(2, 100, 10)})"
            ],
            "text/html": [
              "<style>#sk-container-id-1 {color: black;background-color: white;}#sk-container-id-1 pre{padding: 0;}#sk-container-id-1 div.sk-toggleable {background-color: white;}#sk-container-id-1 label.sk-toggleable__label {cursor: pointer;display: block;width: 100%;margin-bottom: 0;padding: 0.3em;box-sizing: border-box;text-align: center;}#sk-container-id-1 label.sk-toggleable__label-arrow:before {content: \"▸\";float: left;margin-right: 0.25em;color: #696969;}#sk-container-id-1 label.sk-toggleable__label-arrow:hover:before {color: black;}#sk-container-id-1 div.sk-estimator:hover label.sk-toggleable__label-arrow:before {color: black;}#sk-container-id-1 div.sk-toggleable__content {max-height: 0;max-width: 0;overflow: hidden;text-align: left;background-color: #f0f8ff;}#sk-container-id-1 div.sk-toggleable__content pre {margin: 0.2em;color: black;border-radius: 0.25em;background-color: #f0f8ff;}#sk-container-id-1 input.sk-toggleable__control:checked~div.sk-toggleable__content {max-height: 200px;max-width: 100%;overflow: auto;}#sk-container-id-1 input.sk-toggleable__control:checked~label.sk-toggleable__label-arrow:before {content: \"▾\";}#sk-container-id-1 div.sk-estimator input.sk-toggleable__control:checked~label.sk-toggleable__label {background-color: #d4ebff;}#sk-container-id-1 div.sk-label input.sk-toggleable__control:checked~label.sk-toggleable__label {background-color: #d4ebff;}#sk-container-id-1 input.sk-hidden--visually {border: 0;clip: rect(1px 1px 1px 1px);clip: rect(1px, 1px, 1px, 1px);height: 1px;margin: -1px;overflow: hidden;padding: 0;position: absolute;width: 1px;}#sk-container-id-1 div.sk-estimator {font-family: monospace;background-color: #f0f8ff;border: 1px dotted black;border-radius: 0.25em;box-sizing: border-box;margin-bottom: 0.5em;}#sk-container-id-1 div.sk-estimator:hover {background-color: #d4ebff;}#sk-container-id-1 div.sk-parallel-item::after {content: \"\";width: 100%;border-bottom: 1px solid gray;flex-grow: 1;}#sk-container-id-1 div.sk-label:hover label.sk-toggleable__label {background-color: #d4ebff;}#sk-container-id-1 div.sk-serial::before {content: \"\";position: absolute;border-left: 1px solid gray;box-sizing: border-box;top: 0;bottom: 0;left: 50%;z-index: 0;}#sk-container-id-1 div.sk-serial {display: flex;flex-direction: column;align-items: center;background-color: white;padding-right: 0.2em;padding-left: 0.2em;position: relative;}#sk-container-id-1 div.sk-item {position: relative;z-index: 1;}#sk-container-id-1 div.sk-parallel {display: flex;align-items: stretch;justify-content: center;background-color: white;position: relative;}#sk-container-id-1 div.sk-item::before, #sk-container-id-1 div.sk-parallel-item::before {content: \"\";position: absolute;border-left: 1px solid gray;box-sizing: border-box;top: 0;bottom: 0;left: 50%;z-index: -1;}#sk-container-id-1 div.sk-parallel-item {display: flex;flex-direction: column;z-index: 1;position: relative;background-color: white;}#sk-container-id-1 div.sk-parallel-item:first-child::after {align-self: flex-end;width: 50%;}#sk-container-id-1 div.sk-parallel-item:last-child::after {align-self: flex-start;width: 50%;}#sk-container-id-1 div.sk-parallel-item:only-child::after {width: 0;}#sk-container-id-1 div.sk-dashed-wrapped {border: 1px dashed gray;margin: 0 0.4em 0.5em 0.4em;box-sizing: border-box;padding-bottom: 0.4em;background-color: white;}#sk-container-id-1 div.sk-label label {font-family: monospace;font-weight: bold;display: inline-block;line-height: 1.2em;}#sk-container-id-1 div.sk-label-container {text-align: center;}#sk-container-id-1 div.sk-container {/* jupyter's `normalize.less` sets `[hidden] { display: none; }` but bootstrap.min.css set `[hidden] { display: none !important; }` so we also need the `!important` here to be able to override the default hidden behavior on the sphinx rendered scikit-learn.org. See: https://github.com/scikit-learn/scikit-learn/issues/21755 */display: inline-block !important;position: relative;}#sk-container-id-1 div.sk-text-repr-fallback {display: none;}</style><div id=\"sk-container-id-1\" class=\"sk-top-container\"><div class=\"sk-text-repr-fallback\"><pre>GridSearchCV(estimator=DecisionTreeClassifier(random_state=42), n_jobs=-1,\n",
              "             param_grid={&#x27;max_depth&#x27;: range(5, 20),\n",
              "                         &#x27;min_impurity_decrease&#x27;: array([0.0001, 0.0002, 0.0003, 0.0004, 0.0005, 0.0006, 0.0007, 0.0008,\n",
              "       0.0009]),\n",
              "                         &#x27;min_samples_split&#x27;: range(2, 100, 10)})</pre><b>In a Jupyter environment, please rerun this cell to show the HTML representation or trust the notebook. <br />On GitHub, the HTML representation is unable to render, please try loading this page with nbviewer.org.</b></div><div class=\"sk-container\" hidden><div class=\"sk-item sk-dashed-wrapped\"><div class=\"sk-label-container\"><div class=\"sk-label sk-toggleable\"><input class=\"sk-toggleable__control sk-hidden--visually\" id=\"sk-estimator-id-1\" type=\"checkbox\" ><label for=\"sk-estimator-id-1\" class=\"sk-toggleable__label sk-toggleable__label-arrow\">GridSearchCV</label><div class=\"sk-toggleable__content\"><pre>GridSearchCV(estimator=DecisionTreeClassifier(random_state=42), n_jobs=-1,\n",
              "             param_grid={&#x27;max_depth&#x27;: range(5, 20),\n",
              "                         &#x27;min_impurity_decrease&#x27;: array([0.0001, 0.0002, 0.0003, 0.0004, 0.0005, 0.0006, 0.0007, 0.0008,\n",
              "       0.0009]),\n",
              "                         &#x27;min_samples_split&#x27;: range(2, 100, 10)})</pre></div></div></div><div class=\"sk-parallel\"><div class=\"sk-parallel-item\"><div class=\"sk-item\"><div class=\"sk-label-container\"><div class=\"sk-label sk-toggleable\"><input class=\"sk-toggleable__control sk-hidden--visually\" id=\"sk-estimator-id-2\" type=\"checkbox\" ><label for=\"sk-estimator-id-2\" class=\"sk-toggleable__label sk-toggleable__label-arrow\">estimator: DecisionTreeClassifier</label><div class=\"sk-toggleable__content\"><pre>DecisionTreeClassifier(random_state=42)</pre></div></div></div><div class=\"sk-serial\"><div class=\"sk-item\"><div class=\"sk-estimator sk-toggleable\"><input class=\"sk-toggleable__control sk-hidden--visually\" id=\"sk-estimator-id-3\" type=\"checkbox\" ><label for=\"sk-estimator-id-3\" class=\"sk-toggleable__label sk-toggleable__label-arrow\">DecisionTreeClassifier</label><div class=\"sk-toggleable__content\"><pre>DecisionTreeClassifier(random_state=42)</pre></div></div></div></div></div></div></div></div></div></div>"
            ]
          },
          "metadata": {},
          "execution_count": 19
        }
      ]
    },
    {
      "cell_type": "code",
      "source": [
        "print(gs.best_params_)"
      ],
      "metadata": {
        "colab": {
          "base_uri": "https://localhost:8080/"
        },
        "id": "MuUwvmz4z6iL",
        "outputId": "731df3e4-2c17-4769-91e4-47cd895978fd"
      },
      "execution_count": 20,
      "outputs": [
        {
          "output_type": "stream",
          "name": "stdout",
          "text": [
            "{'max_depth': 14, 'min_impurity_decrease': 0.0004, 'min_samples_split': 12}\n"
          ]
        }
      ]
    },
    {
      "cell_type": "code",
      "source": [
        "\n",
        "print(np.max(gs.cv_results_['mean_test_score']))"
      ],
      "metadata": {
        "colab": {
          "base_uri": "https://localhost:8080/"
        },
        "id": "dpOtp6scz8Pq",
        "outputId": "bbdca7bf-4812-45fe-b3e2-387df28a92dd"
      },
      "execution_count": 21,
      "outputs": [
        {
          "output_type": "stream",
          "name": "stdout",
          "text": [
            "0.8683865773302731\n"
          ]
        }
      ]
    },
    {
      "cell_type": "markdown",
      "source": [
        "\n",
        "\n",
        "> 그리드 서치의 장점\n",
        "\n",
        "+ 최적의 매개변수 값을 찾아준다.\n",
        "\n",
        "\n",
        "\n",
        "> 그리드 서치의 단점\n",
        "\n",
        "+ 너무 무겁다. 너무 많은 시간이 걸림\n",
        "\n",
        "\n",
        "\n"
      ],
      "metadata": {
        "id": "UIsn6Wmcz9lS"
      }
    },
    {
      "cell_type": "markdown",
      "source": [
        "# 랜덤 서치(확률 분포 선택)"
      ],
      "metadata": {
        "id": "HKf71AaY0OTv"
      }
    },
    {
      "cell_type": "markdown",
      "source": [
        "말 그대로 랜덤으로 서치한다. 1~10이 있을 때 랜덤으로 1개를 골라 서치를 한다."
      ],
      "metadata": {
        "id": "QB49Bx5j0S9W"
      }
    },
    {
      "cell_type": "markdown",
      "source": [
        "그렇기에 1번만하는 것이 아닌 반복적으로 수행한다."
      ],
      "metadata": {
        "id": "bCascB0I0XbG"
      }
    },
    {
      "cell_type": "markdown",
      "source": [
        "+ 매개변수의 값이 수치일 때 값의 범위나 간격을 미리 정하기 어렵다\n",
        "+ 또한 너무 많은 매개변수 조건이 있어 그리드 서치의 수행시간이 매우 크다.\n",
        "+ 매개변수 값의 목록을 전달하는 것이 아니라 매개변수를 샘플링할 수 잇는 확률 분포 객체를 전달하는 것이 랜덤 서치이다."
      ],
      "metadata": {
        "id": "zg21542r0kbW"
      }
    },
    {
      "cell_type": "markdown",
      "source": [
        "그리드 서치는 너무 좋은 값을 찾지만 랜덤 서치는 여러번 실행 한 것 중에서 제일 나은 값을 찾는다.\n",
        "+ 즉 꼭 최적해가 아니지만 좋은 값을 찾는다."
      ],
      "metadata": {
        "id": "nBBzDXNY1UwG"
      }
    },
    {
      "cell_type": "code",
      "source": [
        "\n",
        "from scipy.stats import uniform, randint\n",
        "\n",
        "rgen = randint(0, 10)\n",
        "rgen.rvs(10)"
      ],
      "metadata": {
        "colab": {
          "base_uri": "https://localhost:8080/"
        },
        "id": "Q4h6NC6S0Rfe",
        "outputId": "8a1f2c08-5b8a-4d46-d7d1-e5d68f8a46b4"
      },
      "execution_count": 22,
      "outputs": [
        {
          "output_type": "execute_result",
          "data": {
            "text/plain": [
              "array([3, 5, 0, 4, 5, 2, 3, 6, 7, 3])"
            ]
          },
          "metadata": {},
          "execution_count": 22
        }
      ]
    },
    {
      "cell_type": "code",
      "source": [
        "np.unique(rgen.rvs(1000), return_counts=True)"
      ],
      "metadata": {
        "colab": {
          "base_uri": "https://localhost:8080/"
        },
        "id": "lWdqHWhi03AC",
        "outputId": "be763299-0acc-4b7c-a566-ad5fe3501447"
      },
      "execution_count": 23,
      "outputs": [
        {
          "output_type": "execute_result",
          "data": {
            "text/plain": [
              "(array([0, 1, 2, 3, 4, 5, 6, 7, 8, 9]),\n",
              " array([109, 106,  87, 104,  80, 101, 101, 105, 108,  99]))"
            ]
          },
          "metadata": {},
          "execution_count": 23
        }
      ]
    },
    {
      "cell_type": "code",
      "source": [
        "ugen = uniform(0, 1)\n",
        "ugen.rvs(10)"
      ],
      "metadata": {
        "colab": {
          "base_uri": "https://localhost:8080/"
        },
        "id": "Ul4tXho604-i",
        "outputId": "2e996f42-eb7e-466b-be7b-977022c2f50a"
      },
      "execution_count": 24,
      "outputs": [
        {
          "output_type": "execute_result",
          "data": {
            "text/plain": [
              "array([0.4137113 , 0.94758878, 0.08338652, 0.60558323, 0.17490798,\n",
              "       0.91312291, 0.25876538, 0.71562915, 0.59038042, 0.31232935])"
            ]
          },
          "metadata": {},
          "execution_count": 24
        }
      ]
    },
    {
      "cell_type": "code",
      "source": [
        "params = {'min_impurity_decrease': uniform(0.0001, 0.001),\n",
        "          'max_depth': randint(20, 50),\n",
        "          'min_samples_split': randint(2, 25),\n",
        "          'min_samples_leaf': randint(1, 25),\n",
        "          }"
      ],
      "metadata": {
        "id": "PAqKgOKf07Fq"
      },
      "execution_count": 25,
      "outputs": []
    },
    {
      "cell_type": "code",
      "source": [
        "from sklearn.model_selection import RandomizedSearchCV\n",
        "\n",
        "gs = RandomizedSearchCV(DecisionTreeClassifier(random_state=42), params,\n",
        "                        n_iter=100, n_jobs=-1, random_state=42)\n",
        "gs.fit(train_input, train_target)"
      ],
      "metadata": {
        "colab": {
          "base_uri": "https://localhost:8080/",
          "height": 118
        },
        "id": "-63f0eZq097a",
        "outputId": "af8e70c1-307f-4714-fad4-8314db34eeb1"
      },
      "execution_count": 26,
      "outputs": [
        {
          "output_type": "execute_result",
          "data": {
            "text/plain": [
              "RandomizedSearchCV(estimator=DecisionTreeClassifier(random_state=42),\n",
              "                   n_iter=100, n_jobs=-1,\n",
              "                   param_distributions={'max_depth': <scipy.stats._distn_infrastructure.rv_discrete_frozen object at 0x7b23c3a7b910>,\n",
              "                                        'min_impurity_decrease': <scipy.stats._distn_infrastructure.rv_continuous_frozen object at 0x7b23c3ad9d80>,\n",
              "                                        'min_samples_leaf': <scipy.stats._distn_infrastructure.rv_discrete_frozen object at 0x7b23c3a7af80>,\n",
              "                                        'min_samples_split': <scipy.stats._distn_infrastructure.rv_discrete_frozen object at 0x7b23c3ad9660>},\n",
              "                   random_state=42)"
            ],
            "text/html": [
              "<style>#sk-container-id-2 {color: black;background-color: white;}#sk-container-id-2 pre{padding: 0;}#sk-container-id-2 div.sk-toggleable {background-color: white;}#sk-container-id-2 label.sk-toggleable__label {cursor: pointer;display: block;width: 100%;margin-bottom: 0;padding: 0.3em;box-sizing: border-box;text-align: center;}#sk-container-id-2 label.sk-toggleable__label-arrow:before {content: \"▸\";float: left;margin-right: 0.25em;color: #696969;}#sk-container-id-2 label.sk-toggleable__label-arrow:hover:before {color: black;}#sk-container-id-2 div.sk-estimator:hover label.sk-toggleable__label-arrow:before {color: black;}#sk-container-id-2 div.sk-toggleable__content {max-height: 0;max-width: 0;overflow: hidden;text-align: left;background-color: #f0f8ff;}#sk-container-id-2 div.sk-toggleable__content pre {margin: 0.2em;color: black;border-radius: 0.25em;background-color: #f0f8ff;}#sk-container-id-2 input.sk-toggleable__control:checked~div.sk-toggleable__content {max-height: 200px;max-width: 100%;overflow: auto;}#sk-container-id-2 input.sk-toggleable__control:checked~label.sk-toggleable__label-arrow:before {content: \"▾\";}#sk-container-id-2 div.sk-estimator input.sk-toggleable__control:checked~label.sk-toggleable__label {background-color: #d4ebff;}#sk-container-id-2 div.sk-label input.sk-toggleable__control:checked~label.sk-toggleable__label {background-color: #d4ebff;}#sk-container-id-2 input.sk-hidden--visually {border: 0;clip: rect(1px 1px 1px 1px);clip: rect(1px, 1px, 1px, 1px);height: 1px;margin: -1px;overflow: hidden;padding: 0;position: absolute;width: 1px;}#sk-container-id-2 div.sk-estimator {font-family: monospace;background-color: #f0f8ff;border: 1px dotted black;border-radius: 0.25em;box-sizing: border-box;margin-bottom: 0.5em;}#sk-container-id-2 div.sk-estimator:hover {background-color: #d4ebff;}#sk-container-id-2 div.sk-parallel-item::after {content: \"\";width: 100%;border-bottom: 1px solid gray;flex-grow: 1;}#sk-container-id-2 div.sk-label:hover label.sk-toggleable__label {background-color: #d4ebff;}#sk-container-id-2 div.sk-serial::before {content: \"\";position: absolute;border-left: 1px solid gray;box-sizing: border-box;top: 0;bottom: 0;left: 50%;z-index: 0;}#sk-container-id-2 div.sk-serial {display: flex;flex-direction: column;align-items: center;background-color: white;padding-right: 0.2em;padding-left: 0.2em;position: relative;}#sk-container-id-2 div.sk-item {position: relative;z-index: 1;}#sk-container-id-2 div.sk-parallel {display: flex;align-items: stretch;justify-content: center;background-color: white;position: relative;}#sk-container-id-2 div.sk-item::before, #sk-container-id-2 div.sk-parallel-item::before {content: \"\";position: absolute;border-left: 1px solid gray;box-sizing: border-box;top: 0;bottom: 0;left: 50%;z-index: -1;}#sk-container-id-2 div.sk-parallel-item {display: flex;flex-direction: column;z-index: 1;position: relative;background-color: white;}#sk-container-id-2 div.sk-parallel-item:first-child::after {align-self: flex-end;width: 50%;}#sk-container-id-2 div.sk-parallel-item:last-child::after {align-self: flex-start;width: 50%;}#sk-container-id-2 div.sk-parallel-item:only-child::after {width: 0;}#sk-container-id-2 div.sk-dashed-wrapped {border: 1px dashed gray;margin: 0 0.4em 0.5em 0.4em;box-sizing: border-box;padding-bottom: 0.4em;background-color: white;}#sk-container-id-2 div.sk-label label {font-family: monospace;font-weight: bold;display: inline-block;line-height: 1.2em;}#sk-container-id-2 div.sk-label-container {text-align: center;}#sk-container-id-2 div.sk-container {/* jupyter's `normalize.less` sets `[hidden] { display: none; }` but bootstrap.min.css set `[hidden] { display: none !important; }` so we also need the `!important` here to be able to override the default hidden behavior on the sphinx rendered scikit-learn.org. See: https://github.com/scikit-learn/scikit-learn/issues/21755 */display: inline-block !important;position: relative;}#sk-container-id-2 div.sk-text-repr-fallback {display: none;}</style><div id=\"sk-container-id-2\" class=\"sk-top-container\"><div class=\"sk-text-repr-fallback\"><pre>RandomizedSearchCV(estimator=DecisionTreeClassifier(random_state=42),\n",
              "                   n_iter=100, n_jobs=-1,\n",
              "                   param_distributions={&#x27;max_depth&#x27;: &lt;scipy.stats._distn_infrastructure.rv_discrete_frozen object at 0x7b23c3a7b910&gt;,\n",
              "                                        &#x27;min_impurity_decrease&#x27;: &lt;scipy.stats._distn_infrastructure.rv_continuous_frozen object at 0x7b23c3ad9d80&gt;,\n",
              "                                        &#x27;min_samples_leaf&#x27;: &lt;scipy.stats._distn_infrastructure.rv_discrete_frozen object at 0x7b23c3a7af80&gt;,\n",
              "                                        &#x27;min_samples_split&#x27;: &lt;scipy.stats._distn_infrastructure.rv_discrete_frozen object at 0x7b23c3ad9660&gt;},\n",
              "                   random_state=42)</pre><b>In a Jupyter environment, please rerun this cell to show the HTML representation or trust the notebook. <br />On GitHub, the HTML representation is unable to render, please try loading this page with nbviewer.org.</b></div><div class=\"sk-container\" hidden><div class=\"sk-item sk-dashed-wrapped\"><div class=\"sk-label-container\"><div class=\"sk-label sk-toggleable\"><input class=\"sk-toggleable__control sk-hidden--visually\" id=\"sk-estimator-id-4\" type=\"checkbox\" ><label for=\"sk-estimator-id-4\" class=\"sk-toggleable__label sk-toggleable__label-arrow\">RandomizedSearchCV</label><div class=\"sk-toggleable__content\"><pre>RandomizedSearchCV(estimator=DecisionTreeClassifier(random_state=42),\n",
              "                   n_iter=100, n_jobs=-1,\n",
              "                   param_distributions={&#x27;max_depth&#x27;: &lt;scipy.stats._distn_infrastructure.rv_discrete_frozen object at 0x7b23c3a7b910&gt;,\n",
              "                                        &#x27;min_impurity_decrease&#x27;: &lt;scipy.stats._distn_infrastructure.rv_continuous_frozen object at 0x7b23c3ad9d80&gt;,\n",
              "                                        &#x27;min_samples_leaf&#x27;: &lt;scipy.stats._distn_infrastructure.rv_discrete_frozen object at 0x7b23c3a7af80&gt;,\n",
              "                                        &#x27;min_samples_split&#x27;: &lt;scipy.stats._distn_infrastructure.rv_discrete_frozen object at 0x7b23c3ad9660&gt;},\n",
              "                   random_state=42)</pre></div></div></div><div class=\"sk-parallel\"><div class=\"sk-parallel-item\"><div class=\"sk-item\"><div class=\"sk-label-container\"><div class=\"sk-label sk-toggleable\"><input class=\"sk-toggleable__control sk-hidden--visually\" id=\"sk-estimator-id-5\" type=\"checkbox\" ><label for=\"sk-estimator-id-5\" class=\"sk-toggleable__label sk-toggleable__label-arrow\">estimator: DecisionTreeClassifier</label><div class=\"sk-toggleable__content\"><pre>DecisionTreeClassifier(random_state=42)</pre></div></div></div><div class=\"sk-serial\"><div class=\"sk-item\"><div class=\"sk-estimator sk-toggleable\"><input class=\"sk-toggleable__control sk-hidden--visually\" id=\"sk-estimator-id-6\" type=\"checkbox\" ><label for=\"sk-estimator-id-6\" class=\"sk-toggleable__label sk-toggleable__label-arrow\">DecisionTreeClassifier</label><div class=\"sk-toggleable__content\"><pre>DecisionTreeClassifier(random_state=42)</pre></div></div></div></div></div></div></div></div></div></div>"
            ]
          },
          "metadata": {},
          "execution_count": 26
        }
      ]
    },
    {
      "cell_type": "markdown",
      "source": [
        "이 함수에서 100번을 돌리고 있다.(n_iter=100)"
      ],
      "metadata": {
        "id": "rbqkVmql1KJL"
      }
    },
    {
      "cell_type": "code",
      "source": [
        "print(gs.best_params_)"
      ],
      "metadata": {
        "colab": {
          "base_uri": "https://localhost:8080/"
        },
        "id": "mkhdzslG1AWC",
        "outputId": "834e04ca-cf43-4ef0-d7e4-817637c531d0"
      },
      "execution_count": 27,
      "outputs": [
        {
          "output_type": "stream",
          "name": "stdout",
          "text": [
            "{'max_depth': 39, 'min_impurity_decrease': 0.00034102546602601173, 'min_samples_leaf': 7, 'min_samples_split': 13}\n"
          ]
        }
      ]
    },
    {
      "cell_type": "code",
      "source": [
        "\n",
        "print(np.max(gs.cv_results_['mean_test_score']))"
      ],
      "metadata": {
        "colab": {
          "base_uri": "https://localhost:8080/"
        },
        "id": "y6P3uBGU1CAy",
        "outputId": "8fc7ace8-c5cf-461b-af85-f847f41d4cb1"
      },
      "execution_count": 28,
      "outputs": [
        {
          "output_type": "stream",
          "name": "stdout",
          "text": [
            "0.8695428296438884\n"
          ]
        }
      ]
    }
  ]
}